{
 "cells": [
  {
   "cell_type": "code",
   "execution_count": 1,
   "id": "372f8fc5",
   "metadata": {},
   "outputs": [],
   "source": [
    "import math\n",
    "import turtle\n",
    "\n",
    "\n",
    "batlogo = turtle.Turtle()\n",
    "batlogo.speed(500)\n",
    "\n",
    "\n",
    "window = turtle.Screen()\n",
    "window.bgcolor(\"black\")\n",
    "batlogo.color(\"Red\")\n"
   ]
  },
  {
   "cell_type": "code",
   "execution_count": 2,
   "id": "3109eb0f",
   "metadata": {},
   "outputs": [],
   "source": [
    "batman = 20"
   ]
  },
  {
   "cell_type": "code",
   "execution_count": 3,
   "id": "63d7d0e8",
   "metadata": {},
   "outputs": [],
   "source": [
    "batlogo.left(90)"
   ]
  },
  {
   "cell_type": "code",
   "execution_count": 4,
   "id": "fbb36df9",
   "metadata": {},
   "outputs": [],
   "source": [
    "batlogo.penup()"
   ]
  },
  {
   "cell_type": "code",
   "execution_count": 5,
   "id": "588580f2",
   "metadata": {},
   "outputs": [],
   "source": [
    "batlogo.goto(-7 * batman, 0)"
   ]
  },
  {
   "cell_type": "code",
   "execution_count": 6,
   "id": "3e101f01",
   "metadata": {},
   "outputs": [],
   "source": [
    "batlogo.pendown()"
   ]
  },
  {
   "cell_type": "code",
   "execution_count": 7,
   "id": "e41cb8cf",
   "metadata": {},
   "outputs": [],
   "source": [
    "for i in range (-7 * batman, -3 * batman, 1):\n",
    "    x = i / batman\n",
    "    rel = math.fabs(x)\n",
    "    y = 1.5 * math.sqrt((-math.fabs(rel - 1)) * math.fabs(3 - rel) / ((rel - 1) * (3 - rel))) * (\n",
    "                1 + math.fabs(rel - 3) / (rel - 3)) * math.sqrt(1 - (x / 7) ** 2) + (\n",
    "                    4.5 + 0.75 * (math.fabs(x - 0.5) + math.fabs(x + 0.5)) - 2.75 * (\n",
    "                        math.fabs(x - 0.75) + math.fabs(x + 0.75))) * (1 + math.fabs(1 - rel) / (1 - rel))\n",
    "    batlogo.goto(i, y * batman)"
   ]
  },
  {
   "cell_type": "code",
   "execution_count": 8,
   "id": "119edc5b",
   "metadata": {},
   "outputs": [],
   "source": [
    "for i in range(-3 * batman, -1 * batman - 1, 1):\n",
    "    x = i / batman\n",
    "    rel = math.fabs(x)\n",
    "    y = (2.71052 + 1.5 - 0.5 * rel - 1.35526 * math.sqrt(4 - (rel - 1) ** 2)) * math.sqrt(\n",
    "        math.fabs(rel - 1) / (rel - 1))\n",
    "    batlogo.goto(i, y * batman)"
   ]
  },
  {
   "cell_type": "code",
   "execution_count": 9,
   "id": "a6029c75",
   "metadata": {},
   "outputs": [
    {
     "name": "stdout",
     "output_type": "stream",
     "text": [
      "Batman Logo with Python Turtle\n"
     ]
    }
   ],
   "source": [
    "batlogo.goto(-1 * batman, 3 * batman)\n",
    "batlogo.goto(int(-0.5 * batman), int(2.2 * batman))\n",
    "batlogo.goto(int(0.5 * batman), int(2.2 * batman))\n",
    "batlogo.goto(1 * batman, 3 * batman)\n",
    "print(\"Batman Logo with Python Turtle\")"
   ]
  },
  {
   "cell_type": "code",
   "execution_count": 10,
   "id": "1b55ef74",
   "metadata": {},
   "outputs": [],
   "source": [
    "for i in range(1 * batman + 1, 3 * batman + 1, 1):\n",
    "    x = i / batman\n",
    "    rel = math.fabs(x)\n",
    "    y = (2.71052 + 1.5 - 0.5 * rel - 1.35526 * math.sqrt(4 - (rel - 1) ** 2)) * math.sqrt(\n",
    "        math.fabs(rel - 1) / (rel - 1))\n",
    "    batlogo.goto(i, y * batman)"
   ]
  },
  {
   "cell_type": "code",
   "execution_count": 11,
   "id": "3f1fc131",
   "metadata": {},
   "outputs": [],
   "source": [
    "for i in range(3 * batman + 1, 7 * batman + 1, 1):\n",
    "    x = i / batman\n",
    "    rel = math.fabs(x)\n",
    "    y = 1.5 * math.sqrt((-math.fabs(rel - 1)) * math.fabs(3 - rel) / ((rel - 1) * (3 - rel))) * (\n",
    "                1 + math.fabs(rel - 3) / (rel - 3)) * math.sqrt(1 - (x / 7) ** 2) + (\n",
    "                    4.5 + 0.75 * (math.fabs(x - 0.5) + math.fabs(x + 0.5)) - 2.75 * (\n",
    "                        math.fabs(x - 0.75) + math.fabs(x + 0.75))) * (1 + math.fabs(1 - rel) / (1 - rel))\n",
    "    batlogo.goto(i, y * batman)"
   ]
  },
  {
   "cell_type": "code",
   "execution_count": 12,
   "id": "5434c54c",
   "metadata": {},
   "outputs": [],
   "source": [
    "for i in range(7 * batman, 4 * batman, -1):\n",
    "    x = i / batman\n",
    "    rel = math.fabs(x)\n",
    "    y = (-3) * math.sqrt(1 - (x / 7) ** 2) * math.sqrt(math.fabs(rel - 4) / (rel - 4))\n",
    "    batlogo.goto(i, y * batman)"
   ]
  },
  {
   "cell_type": "code",
   "execution_count": 13,
   "id": "e44c428d",
   "metadata": {},
   "outputs": [],
   "source": [
    "for i in range(4 * batman, -4 * batman, -1):\n",
    "    x = i / batman\n",
    "    rel = math.fabs(x)\n",
    "    y = math.fabs(x / 2) - 0.0913722 * x ** 2 - 3 + math.sqrt(1 - (math.fabs(rel - 2) - 1) ** 2)\n",
    "    batlogo.goto(i, y * batman)"
   ]
  },
  {
   "cell_type": "code",
   "execution_count": 14,
   "id": "3094eede",
   "metadata": {},
   "outputs": [],
   "source": [
    "for i in range(-4 * batman - 1, -7 * batman - 1, -1):\n",
    "    x = i / batman\n",
    "    rel = math.fabs(x)\n",
    "    y = (-3) * math.sqrt(1 - (x / 7) ** 2) * math.sqrt(math.fabs(rel - 4) / (rel - 4))\n",
    "    batlogo.goto(i, y * batman)"
   ]
  },
  {
   "cell_type": "code",
   "execution_count": 15,
   "id": "ad3629b3",
   "metadata": {},
   "outputs": [],
   "source": [
    "batlogo.penup()\n",
    "batlogo.goto(300,300)\n",
    "turtle.done()"
   ]
  },
  {
   "cell_type": "code",
   "execution_count": null,
   "id": "f7d4e8e9",
   "metadata": {},
   "outputs": [],
   "source": []
  }
 ],
 "metadata": {
  "kernelspec": {
   "display_name": "Python 3 (ipykernel)",
   "language": "python",
   "name": "python3"
  },
  "language_info": {
   "codemirror_mode": {
    "name": "ipython",
    "version": 3
   },
   "file_extension": ".py",
   "mimetype": "text/x-python",
   "name": "python",
   "nbconvert_exporter": "python",
   "pygments_lexer": "ipython3",
   "version": "3.9.12"
  }
 },
 "nbformat": 4,
 "nbformat_minor": 5
}
